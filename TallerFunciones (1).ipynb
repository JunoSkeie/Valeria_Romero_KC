{
  "nbformat": 4,
  "nbformat_minor": 0,
  "metadata": {
    "colab": {
      "name": "TallerFunciones.ipynb",
      "provenance": []
    },
    "kernelspec": {
      "display_name": "Python 3",
      "name": "python3"
    },
    "language_info": {
      "name": "python"
    }
  },
  "cells": [
    {
      "cell_type": "markdown",
      "metadata": {
        "id": "36zCVQ0WXFRp"
      },
      "source": [
        "**Punto 1**"
      ]
    },
    {
      "cell_type": "code",
      "metadata": {
        "colab": {
          "base_uri": "https://localhost:8080/"
        },
        "id": "kTqFiRVYOa6A",
        "outputId": "21fcb1b5-9b3f-4f18-94b9-ec8ef150feca"
      },
      "source": [
        "variable=input(\"Ingrese una palabra o número: \")\n",
        "if str(variable)==str(variable)[::-1]:\n",
        "  print(\"Es un palindromo\")\n",
        "else:\n",
        "  print(\"No es un palindromo\")"
      ],
      "execution_count": null,
      "outputs": [
        {
          "output_type": "stream",
          "text": [
            "Ingrese una palabra o número: 456654\n",
            "Es un palindromo\n"
          ],
          "name": "stdout"
        }
      ]
    },
    {
      "cell_type": "markdown",
      "metadata": {
        "id": "Pya47kHtOdsg"
      },
      "source": [
        "**Punto 2**"
      ]
    },
    {
      "cell_type": "code",
      "metadata": {
        "colab": {
          "base_uri": "https://localhost:8080/"
        },
        "id": "jVa4gCQCnNiE",
        "outputId": "16ad7382-5885-42b4-a208-4d3379a157bb"
      },
      "source": [
        "num = int(input(\"Ingrese un número:\"))\n",
        "def evaluar_primo(num):\n",
        "  contador=0\n",
        "  resultado=True\n",
        "  for i in range(1,num+1):\n",
        "    if (num%i==0):\n",
        "      contador+=1\n",
        "      if (contador>2):\n",
        "        resultado=False\n",
        "        break\n",
        "  return resultado\n",
        "if (evaluar_primo(num)==True):\n",
        "  print(\"El número \"+ format(num) +\" es primo\")\n",
        "else:\n",
        "    print(\"El número \"+ format(num) +\" no es primo\")\n"
      ],
      "execution_count": null,
      "outputs": [
        {
          "output_type": "stream",
          "text": [
            "Ingrese un número:12\n",
            "El número 12 no es primo\n"
          ],
          "name": "stdout"
        }
      ]
    },
    {
      "cell_type": "markdown",
      "metadata": {
        "id": "o9l0TQ-CWCSo"
      },
      "source": [
        "**Punto 3**"
      ]
    },
    {
      "cell_type": "code",
      "metadata": {
        "colab": {
          "base_uri": "https://localhost:8080/"
        },
        "id": "ApBXAG59Mg55",
        "outputId": "c2cea2f5-43cd-4941-c16b-3ed06efe6fab"
      },
      "source": [
        "num = int(input(\"Ingrese el número de primos a mostrar:\"))\n",
        "\n",
        "def genarar_primo():\n",
        "  numero = 2\n",
        "  yield numero\n",
        "\n",
        "  while True:\n",
        "    temp = numero\n",
        "    while True:\n",
        "        temp += 1\n",
        "        contador = 1\n",
        "        contadorD = 0\n",
        "\n",
        "        while contador <= temp:\n",
        "          if temp % contador == 0:\n",
        "            contadorD += 1\n",
        "          \n",
        "          if contadorD > 2:\n",
        "            break\n",
        "          \n",
        "          contador += 1\n",
        "\n",
        "        if contadorD == 2:\n",
        "          yield temp\n",
        "          \n",
        "\n",
        "g = genarar_primo()\n",
        "\n",
        "primos = [next(g) for _ in range(num)]\n",
        "\n",
        "print(primos)\n",
        "\n",
        "\n"
      ],
      "execution_count": null,
      "outputs": [
        {
          "output_type": "stream",
          "text": [
            "Ingrese el número de primos a mostrar:7\n",
            "[2, 3, 5, 7, 11, 13, 17]\n"
          ],
          "name": "stdout"
        }
      ]
    },
    {
      "cell_type": "markdown",
      "metadata": {
        "id": "N33VeJSWbKE5"
      },
      "source": [
        "**Punto 4**"
      ]
    },
    {
      "cell_type": "code",
      "metadata": {
        "id": "UGWI0IN1bNaB",
        "colab": {
          "base_uri": "https://localhost:8080/"
        },
        "outputId": "e933c4a3-9793-4075-9875-1a37df2eb8c8"
      },
      "source": [
        "def PrimosMersenne():\n",
        "\n",
        "  Mersenne = [3,7,31,127,8191,131071,524287,2147483647,2305843009213693951]\n",
        "\n",
        "  num = int(input(\"Ingrese la cantidad de numeros a ver \"))\n",
        "\n",
        "  if num > 9:\n",
        "\n",
        "    print(\"El numero es muy grande por lo que no se puede ejecutar\")\n",
        "\n",
        "  elif num > 51:\n",
        "\n",
        "    print(\"El numero en cuestion aun no ha sido descubierto\")\n",
        "\n",
        "  else :\n",
        "\n",
        "    return Mersenne[0:num]\n",
        "\n",
        "print(PrimosMersenne())"
      ],
      "execution_count": null,
      "outputs": [
        {
          "output_type": "stream",
          "text": [
            "Ingrese la cantidad de numeros a ver 5\n",
            "[3, 7, 31, 127, 8191]\n"
          ],
          "name": "stdout"
        }
      ]
    },
    {
      "cell_type": "markdown",
      "metadata": {
        "id": "cgIt-rALDcSP"
      },
      "source": [
        "**Punto 5**"
      ]
    },
    {
      "cell_type": "code",
      "metadata": {
        "colab": {
          "base_uri": "https://localhost:8080/"
        },
        "id": "5VJa8Kbuivmi",
        "outputId": "63b89bda-7105-4651-e974-69fdf75d9542"
      },
      "source": [
        "x = int(input(\"Ingrese el primer número:\"))\n",
        "y = int(input(\"Ingrese el segundo número:\"))\n",
        "\n",
        "mcd = False\n",
        "\n",
        "if x > 0 and y > 0 and x != y:\n",
        "\n",
        "  if y < x:\n",
        "    aux = x\n",
        "    x = y\n",
        "    y = aux\n",
        "  i = x\n",
        "\n",
        "  while not mcd and i >= 1:\n",
        "    if x % i == 0 and y % i == 0:\n",
        "       print(\"El máximo común divisor es \",i)\n",
        "       mcd = True\n",
        "    else:\n",
        "      i -= 1\n",
        "else:\n",
        "  if x == y:\n",
        "    print(\"Los números son iguales \")\n",
        "  else:\n",
        "    print(\"Los números son incorrectos\")"
      ],
      "execution_count": null,
      "outputs": [
        {
          "output_type": "stream",
          "text": [
            "Ingrese el primer número:15\n",
            "Ingrese el segundo número:20\n",
            "El máximo común divisor es  5\n"
          ],
          "name": "stdout"
        }
      ]
    },
    {
      "cell_type": "markdown",
      "metadata": {
        "id": "hp_r3ra5hjFd"
      },
      "source": [
        "**Punto 6**"
      ]
    },
    {
      "cell_type": "code",
      "metadata": {
        "colab": {
          "base_uri": "https://localhost:8080/"
        },
        "id": "AE9DjLYVebus",
        "outputId": "19bee4e6-3931-46de-e52c-1e2c07edf7b6"
      },
      "source": [
        "numR = int(input(\"Ingrese un número:\"))\n",
        "\n",
        "def conversion_entero_romano(entero):\n",
        "  numeros = [1000,900,500,400,100,90,50,40,10,9,5,4,1]\n",
        "  numerales = ['M', 'CM', 'D', 'CD', 'C', 'XC', 'L', 'XL', 'X', 'IX', 'V', 'IV', 'I']  \n",
        "\n",
        "  numeral = ''\n",
        "  i = 0\n",
        "\n",
        "  while entero > 0:\n",
        "    for _ in range(entero // numeros[i]):\n",
        "      numeral += numerales[i]\n",
        "      entero -= numeros[i]\n",
        "\n",
        "    i += 1\n",
        "\n",
        "  return numeral\n",
        "\n",
        "print(\"Sí convertimos el número \" + format(numR) + \" a número romano sería: \")\n",
        "print(conversion_entero_romano(numR))"
      ],
      "execution_count": null,
      "outputs": [
        {
          "output_type": "stream",
          "text": [
            "Ingrese un número:6\n",
            "Sí convertimos el número 6 a número romano sería: \n",
            "VI\n"
          ],
          "name": "stdout"
        }
      ]
    }
  ]
}